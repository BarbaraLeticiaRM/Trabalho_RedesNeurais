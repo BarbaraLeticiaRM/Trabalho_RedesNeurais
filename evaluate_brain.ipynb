{
  "cells": [
    {
      "cell_type": "markdown",
      "metadata": {
        "id": "dYhyo7z6VXAQ"
      },
      "source": [
        "# Instalando pacotes\n"
      ]
    },
    {
      "cell_type": "code",
      "execution_count": null,
      "metadata": {
        "id": "RCmztVJdVWwK",
        "colab": {
          "base_uri": "https://localhost:8080/"
        },
        "outputId": "b78a1e1f-a5ad-4c34-dd9e-9dbf59892326"
      },
      "outputs": [
        {
          "output_type": "stream",
          "name": "stdout",
          "text": [
            "Reading package lists... Done\n",
            "Building dependency tree... Done\n",
            "Reading state information... Done\n",
            "The following additional packages will be installed:\n",
            "  libpython3.7-minimal libpython3.7-stdlib mailcap mime-support\n",
            "  python3.7-minimal\n",
            "Suggested packages:\n",
            "  python3.7-venv binfmt-support\n",
            "The following NEW packages will be installed:\n",
            "  libpython3.7-minimal libpython3.7-stdlib mailcap mime-support python3.7\n",
            "  python3.7-minimal\n",
            "0 upgraded, 6 newly installed, 0 to remove and 32 not upgraded.\n",
            "Need to get 4,698 kB of archives.\n",
            "After this operation, 17.8 MB of additional disk space will be used.\n",
            "Get:1 http://archive.ubuntu.com/ubuntu jammy/main amd64 mailcap all 3.70+nmu1ubuntu1 [23.8 kB]\n",
            "Get:2 http://archive.ubuntu.com/ubuntu jammy/main amd64 mime-support all 3.66 [3,696 B]\n",
            "Get:3 https://ppa.launchpadcontent.net/deadsnakes/ppa/ubuntu jammy/main amd64 libpython3.7-minimal amd64 3.7.17-1+jammy1 [608 kB]\n",
            "Get:4 https://ppa.launchpadcontent.net/deadsnakes/ppa/ubuntu jammy/main amd64 python3.7-minimal amd64 3.7.17-1+jammy1 [1,837 kB]\n",
            "Get:5 https://ppa.launchpadcontent.net/deadsnakes/ppa/ubuntu jammy/main amd64 libpython3.7-stdlib amd64 3.7.17-1+jammy1 [1,864 kB]\n",
            "Get:6 https://ppa.launchpadcontent.net/deadsnakes/ppa/ubuntu jammy/main amd64 python3.7 amd64 3.7.17-1+jammy1 [362 kB]\n",
            "Fetched 4,698 kB in 7s (720 kB/s)\n",
            "debconf: unable to initialize frontend: Dialog\n",
            "debconf: (No usable dialog-like program is installed, so the dialog based frontend cannot be used. at /usr/share/perl5/Debconf/FrontEnd/Dialog.pm line 78, <> line 6.)\n",
            "debconf: falling back to frontend: Readline\n",
            "debconf: unable to initialize frontend: Readline\n",
            "debconf: (This frontend requires a controlling tty.)\n",
            "debconf: falling back to frontend: Teletype\n",
            "dpkg-preconfigure: unable to re-open stdin: \n",
            "Selecting previously unselected package libpython3.7-minimal:amd64.\n",
            "(Reading database ... 121747 files and directories currently installed.)\n",
            "Preparing to unpack .../0-libpython3.7-minimal_3.7.17-1+jammy1_amd64.deb ...\n",
            "Unpacking libpython3.7-minimal:amd64 (3.7.17-1+jammy1) ...\n",
            "Selecting previously unselected package python3.7-minimal.\n",
            "Preparing to unpack .../1-python3.7-minimal_3.7.17-1+jammy1_amd64.deb ...\n",
            "Unpacking python3.7-minimal (3.7.17-1+jammy1) ...\n",
            "Selecting previously unselected package mailcap.\n",
            "Preparing to unpack .../2-mailcap_3.70+nmu1ubuntu1_all.deb ...\n",
            "Unpacking mailcap (3.70+nmu1ubuntu1) ...\n",
            "Selecting previously unselected package mime-support.\n",
            "Preparing to unpack .../3-mime-support_3.66_all.deb ...\n",
            "Unpacking mime-support (3.66) ...\n",
            "Selecting previously unselected package libpython3.7-stdlib:amd64.\n",
            "Preparing to unpack .../4-libpython3.7-stdlib_3.7.17-1+jammy1_amd64.deb ...\n",
            "Unpacking libpython3.7-stdlib:amd64 (3.7.17-1+jammy1) ...\n",
            "Selecting previously unselected package python3.7.\n",
            "Preparing to unpack .../5-python3.7_3.7.17-1+jammy1_amd64.deb ...\n",
            "Unpacking python3.7 (3.7.17-1+jammy1) ...\n",
            "Setting up libpython3.7-minimal:amd64 (3.7.17-1+jammy1) ...\n",
            "Setting up python3.7-minimal (3.7.17-1+jammy1) ...\n",
            "Setting up mailcap (3.70+nmu1ubuntu1) ...\n",
            "Setting up mime-support (3.66) ...\n",
            "Setting up libpython3.7-stdlib:amd64 (3.7.17-1+jammy1) ...\n",
            "Setting up python3.7 (3.7.17-1+jammy1) ...\n",
            "Processing triggers for man-db (2.10.2-1) ...\n",
            "Get:1 https://cloud.r-project.org/bin/linux/ubuntu jammy-cran40/ InRelease [3,626 B]\n",
            "Get:2 https://developer.download.nvidia.com/compute/cuda/repos/ubuntu2204/x86_64  InRelease [1,581 B]\n",
            "Hit:3 http://archive.ubuntu.com/ubuntu jammy InRelease\n",
            "Get:4 https://developer.download.nvidia.com/compute/cuda/repos/ubuntu2204/x86_64  Packages [668 kB]\n",
            "Get:5 http://archive.ubuntu.com/ubuntu jammy-updates InRelease [119 kB]\n",
            "Get:6 http://security.ubuntu.com/ubuntu jammy-security InRelease [110 kB]\n",
            "Get:7 https://ppa.launchpadcontent.net/c2d4u.team/c2d4u4.0+/ubuntu jammy InRelease [18.1 kB]\n",
            "Hit:8 https://ppa.launchpadcontent.net/deadsnakes/ppa/ubuntu jammy InRelease\n",
            "Hit:9 http://archive.ubuntu.com/ubuntu jammy-backports InRelease\n",
            "Hit:10 https://ppa.launchpadcontent.net/graphics-drivers/ppa/ubuntu jammy InRelease\n",
            "Get:11 http://archive.ubuntu.com/ubuntu jammy-updates/universe amd64 Packages [1,334 kB]\n",
            "Hit:12 https://ppa.launchpadcontent.net/ubuntugis/ppa/ubuntu jammy InRelease\n",
            "Get:13 http://security.ubuntu.com/ubuntu jammy-security/main amd64 Packages [1,399 kB]\n",
            "Get:14 https://ppa.launchpadcontent.net/c2d4u.team/c2d4u4.0+/ubuntu jammy/main Sources [2,268 kB]\n",
            "Get:15 http://archive.ubuntu.com/ubuntu jammy-updates/main amd64 Packages [1,680 kB]\n",
            "Get:16 http://archive.ubuntu.com/ubuntu jammy-updates/restricted amd64 Packages [1,728 kB]\n",
            "Get:17 http://security.ubuntu.com/ubuntu jammy-security/universe amd64 Packages [1,064 kB]\n",
            "Get:18 https://ppa.launchpadcontent.net/c2d4u.team/c2d4u4.0+/ubuntu jammy/main amd64 Packages [1,164 kB]\n",
            "Fetched 11.6 MB in 6s (2,032 kB/s)\n",
            "Reading package lists... Done\n",
            "update-alternatives: using /usr/bin/python3.7 to provide /usr/bin/python3 (python3) in auto mode\n",
            "There is only one alternative in link group python3 (providing /usr/bin/python3): /usr/bin/python3.7\n",
            "Nothing to configure.\n"
          ]
        }
      ],
      "source": [
        "!sudo apt-get install python3.7\n",
        "!sudo apt-get update -y\n",
        "!sudo update-alternatives --install /usr/bin/python3 python3 /usr/bin/python3.7 1\n",
        "!sudo update-alternatives --config python3"
      ]
    },
    {
      "cell_type": "code",
      "execution_count": null,
      "metadata": {
        "id": "_uGPX4HQVx75",
        "colab": {
          "base_uri": "https://localhost:8080/"
        },
        "outputId": "11a5c39a-2244-4a7f-d3ea-f28746c69296"
      },
      "outputs": [
        {
          "output_type": "stream",
          "name": "stdout",
          "text": [
            "Reading package lists... Done\n",
            "Building dependency tree... Done\n",
            "Reading state information... Done\n",
            "The following additional packages will be installed:\n",
            "  python3.7-lib2to3\n",
            "The following NEW packages will be installed:\n",
            "  python3.7-distutils python3.7-lib2to3\n",
            "0 upgraded, 2 newly installed, 0 to remove and 34 not upgraded.\n",
            "Need to get 313 kB of archives.\n",
            "After this operation, 1,229 kB of additional disk space will be used.\n",
            "Get:1 https://ppa.launchpadcontent.net/deadsnakes/ppa/ubuntu jammy/main amd64 python3.7-lib2to3 all 3.7.17-1+jammy1 [124 kB]\n",
            "Get:2 https://ppa.launchpadcontent.net/deadsnakes/ppa/ubuntu jammy/main amd64 python3.7-distutils all 3.7.17-1+jammy1 [189 kB]\n",
            "Fetched 313 kB in 2s (200 kB/s)\n",
            "debconf: unable to initialize frontend: Dialog\n",
            "debconf: (No usable dialog-like program is installed, so the dialog based frontend cannot be used. at /usr/share/perl5/Debconf/FrontEnd/Dialog.pm line 78, <> line 2.)\n",
            "debconf: falling back to frontend: Readline\n",
            "debconf: unable to initialize frontend: Readline\n",
            "debconf: (This frontend requires a controlling tty.)\n",
            "debconf: falling back to frontend: Teletype\n",
            "dpkg-preconfigure: unable to re-open stdin: \n",
            "Selecting previously unselected package python3.7-lib2to3.\n",
            "(Reading database ... 122392 files and directories currently installed.)\n",
            "Preparing to unpack .../python3.7-lib2to3_3.7.17-1+jammy1_all.deb ...\n",
            "Unpacking python3.7-lib2to3 (3.7.17-1+jammy1) ...\n",
            "Selecting previously unselected package python3.7-distutils.\n",
            "Preparing to unpack .../python3.7-distutils_3.7.17-1+jammy1_all.deb ...\n",
            "Unpacking python3.7-distutils (3.7.17-1+jammy1) ...\n",
            "Setting up python3.7-lib2to3 (3.7.17-1+jammy1) ...\n",
            "Setting up python3.7-distutils (3.7.17-1+jammy1) ...\n",
            "--2024-02-06 15:46:47--  https://bootstrap.pypa.io/get-pip.py\n",
            "Resolving bootstrap.pypa.io (bootstrap.pypa.io)... 151.101.0.175, 151.101.64.175, 151.101.128.175, ...\n",
            "Connecting to bootstrap.pypa.io (bootstrap.pypa.io)|151.101.0.175|:443... connected.\n",
            "HTTP request sent, awaiting response... 200 OK\n",
            "Length: 2635835 (2.5M) [text/x-python]\n",
            "Saving to: ‘get-pip.py’\n",
            "\n",
            "get-pip.py          100%[===================>]   2.51M  --.-KB/s    in 0.05s   \n",
            "\n",
            "2024-02-06 15:46:47 (51.5 MB/s) - ‘get-pip.py’ saved [2635835/2635835]\n",
            "\n",
            "Collecting pip\n",
            "  Downloading pip-24.0-py3-none-any.whl.metadata (3.6 kB)\n",
            "Collecting setuptools\n",
            "  Downloading setuptools-68.0.0-py3-none-any.whl.metadata (6.4 kB)\n",
            "Collecting wheel\n",
            "  Downloading wheel-0.42.0-py3-none-any.whl.metadata (2.2 kB)\n",
            "Downloading pip-24.0-py3-none-any.whl (2.1 MB)\n",
            "\u001b[2K   \u001b[90m━━━━━━━━━━━━━━━━━━━━━━━━━━━━━━━━━━━━━━━━\u001b[0m \u001b[32m2.1/2.1 MB\u001b[0m \u001b[31m10.0 MB/s\u001b[0m eta \u001b[36m0:00:00\u001b[0m\n",
            "\u001b[?25hDownloading setuptools-68.0.0-py3-none-any.whl (804 kB)\n",
            "\u001b[2K   \u001b[90m━━━━━━━━━━━━━━━━━━━━━━━━━━━━━━━━━━━━━━━━\u001b[0m \u001b[32m804.0/804.0 kB\u001b[0m \u001b[31m16.0 MB/s\u001b[0m eta \u001b[36m0:00:00\u001b[0m\n",
            "\u001b[?25hDownloading wheel-0.42.0-py3-none-any.whl (65 kB)\n",
            "\u001b[2K   \u001b[90m━━━━━━━━━━━━━━━━━━━━━━━━━━━━━━━━━━━━━━━━\u001b[0m \u001b[32m65.4/65.4 kB\u001b[0m \u001b[31m5.0 MB/s\u001b[0m eta \u001b[36m0:00:00\u001b[0m\n",
            "\u001b[?25hInstalling collected packages: wheel, setuptools, pip\n",
            "Successfully installed pip-24.0 setuptools-68.0.0 wheel-0.42.0\n",
            "\u001b[33mWARNING: Running pip as the 'root' user can result in broken permissions and conflicting behaviour with the system package manager. It is recommended to use a virtual environment instead: https://pip.pypa.io/warnings/venv\u001b[0m\u001b[33m\n",
            "\u001b[0m"
          ]
        }
      ],
      "source": [
        "!sudo apt-get install python3.7-distutils\n",
        "!wget https://bootstrap.pypa.io/get-pip.py\n",
        "!python get-pip.py"
      ]
    },
    {
      "cell_type": "code",
      "execution_count": null,
      "metadata": {
        "id": "UvTDoEBZV4Rq",
        "colab": {
          "base_uri": "https://localhost:8080/"
        },
        "outputId": "dcf81291-2491-4320-dff3-1969e2049ed7"
      },
      "outputs": [
        {
          "output_type": "stream",
          "name": "stdout",
          "text": [
            "Collecting torch==1.7.1\n",
            "  Downloading torch-1.7.1-cp37-cp37m-manylinux1_x86_64.whl (776.8 MB)\n",
            "\u001b[2K     \u001b[90m━━━━━━━━━━━━━━━━━━━━━━━━━━━━━━━━━━━━━━━━\u001b[0m \u001b[32m776.8/776.8 MB\u001b[0m \u001b[31m2.6 MB/s\u001b[0m eta \u001b[36m0:00:00\u001b[0m\n",
            "\u001b[?25hCollecting torchvision==0.8.2\n",
            "  Downloading torchvision-0.8.2-cp37-cp37m-manylinux1_x86_64.whl (12.8 MB)\n",
            "\u001b[2K     \u001b[90m━━━━━━━━━━━━━━━━━━━━━━━━━━━━━━━━━━━━━━━━\u001b[0m \u001b[32m12.8/12.8 MB\u001b[0m \u001b[31m83.2 MB/s\u001b[0m eta \u001b[36m0:00:00\u001b[0m\n",
            "\u001b[?25hCollecting torchaudio==0.7.2\n",
            "  Downloading torchaudio-0.7.2-cp37-cp37m-manylinux1_x86_64.whl (7.6 MB)\n",
            "\u001b[2K     \u001b[90m━━━━━━━━━━━━━━━━━━━━━━━━━━━━━━━━━━━━━━━━\u001b[0m \u001b[32m7.6/7.6 MB\u001b[0m \u001b[31m93.9 MB/s\u001b[0m eta \u001b[36m0:00:00\u001b[0m\n",
            "\u001b[?25hCollecting typing-extensions (from torch==1.7.1)\n",
            "  Downloading typing_extensions-4.7.1-py3-none-any.whl.metadata (3.1 kB)\n",
            "Collecting numpy (from torch==1.7.1)\n",
            "  Downloading numpy-1.21.6-cp37-cp37m-manylinux_2_12_x86_64.manylinux2010_x86_64.whl (15.7 MB)\n",
            "\u001b[2K     \u001b[90m━━━━━━━━━━━━━━━━━━━━━━━━━━━━━━━━━━━━━━━━\u001b[0m \u001b[32m15.7/15.7 MB\u001b[0m \u001b[31m91.3 MB/s\u001b[0m eta \u001b[36m0:00:00\u001b[0m\n",
            "\u001b[?25hCollecting pillow>=4.1.1 (from torchvision==0.8.2)\n",
            "  Downloading Pillow-9.5.0-cp37-cp37m-manylinux_2_28_x86_64.whl (3.4 MB)\n",
            "\u001b[2K     \u001b[90m━━━━━━━━━━━━━━━━━━━━━━━━━━━━━━━━━━━━━━━━\u001b[0m \u001b[32m3.4/3.4 MB\u001b[0m \u001b[31m70.7 MB/s\u001b[0m eta \u001b[36m0:00:00\u001b[0m\n",
            "\u001b[?25hDownloading typing_extensions-4.7.1-py3-none-any.whl (33 kB)\n",
            "Installing collected packages: typing-extensions, pillow, numpy, torch, torchvision, torchaudio\n",
            "Successfully installed numpy-1.21.6 pillow-9.5.0 torch-1.7.1 torchaudio-0.7.2 torchvision-0.8.2 typing-extensions-4.7.1\n",
            "\u001b[33mWARNING: Running pip as the 'root' user can result in broken permissions and conflicting behaviour with the system package manager. It is recommended to use a virtual environment instead: https://pip.pypa.io/warnings/venv\u001b[0m\u001b[33m\n",
            "\u001b[0m"
          ]
        }
      ],
      "source": [
        "!pip install torch==1.7.1 torchvision==0.8.2 torchaudio==0.7.2"
      ]
    },
    {
      "cell_type": "markdown",
      "metadata": {
        "id": "H1IVaAqhbw_h"
      },
      "source": [
        "# Código"
      ]
    },
    {
      "cell_type": "code",
      "execution_count": null,
      "metadata": {
        "colab": {
          "base_uri": "https://localhost:8080/"
        },
        "id": "r258bBMGyt8I",
        "outputId": "148c63b7-01e1-4539-ce11-401eb7bd2247"
      },
      "outputs": [
        {
          "output_type": "stream",
          "name": "stdout",
          "text": [
            "Mounted at /content/drive\n"
          ]
        }
      ],
      "source": [
        "from google.colab import drive\n",
        "drive.mount('/content/drive')"
      ]
    },
    {
      "cell_type": "code",
      "execution_count": null,
      "metadata": {
        "id": "SXKh99g34BBy"
      },
      "outputs": [],
      "source": [
        "import sys\n",
        "sys.path.append('/content/drive/Shareddrives/Mestrado_BarbaraMilagres/GitHub/DUDARTS')"
      ]
    },
    {
      "cell_type": "code",
      "execution_count": null,
      "metadata": {
        "colab": {
          "base_uri": "https://localhost:8080/"
        },
        "id": "3RyScL_ScMVl",
        "outputId": "eccbd860-8467-4d2b-ee5b-3e6dd2c02767"
      },
      "outputs": [
        {
          "output_type": "stream",
          "name": "stdout",
          "text": [
            "/content/drive/Shareddrives/Mestrado_BarbaraMilagres/GitHub/DUDARTS\n"
          ]
        }
      ],
      "source": [
        "%cd /content/drive/Shareddrives/Mestrado_BarbaraMilagres/GitHub/DUDARTS"
      ]
    },
    {
      "cell_type": "code",
      "source": [
        "import sys\n",
        "import torch\n",
        "import utils\n",
        "import logging\n",
        "import genotypes\n",
        "\n",
        "import argparse\n",
        "import torch.nn as nn\n",
        "import torch.utils\n",
        "import torchvision.datasets as dset\n",
        "from model import NetworkCIFAR as Network"
      ],
      "metadata": {
        "id": "V9s_RmOighbn"
      },
      "execution_count": null,
      "outputs": []
    },
    {
      "cell_type": "code",
      "source": [
        "parser = argparse.ArgumentParser(\"cifar\")\n",
        "parser.add_argument('--arch', type=str, default='du_darts_c10_s0', help='which architecture to use')\n",
        "parser.add_argument('--auxiliary', action='store_false', default=True, help='use auxiliary tower')\n",
        "parser.add_argument('--auxiliary_weight', type=float, default=0.4, help='weight for auxiliary loss')\n",
        "parser.add_argument('--batch_size', type=int, default=96, help='batch size')\n",
        "parser.add_argument('--cutout', action='store_true', default=False, help='use cutout')\n",
        "parser.add_argument('--cutout_length', type=int, default=16, help='cutout length')\n",
        "parser.add_argument('--data', type=str, default='./dataset/', help='location of the data corpus')\n",
        "parser.add_argument('--dataset', type=str, default='brainMRI', help='dataset')\n",
        "parser.add_argument('--drop_path_prob', type=float, default=0.2, help='drop path probability')\n",
        "parser.add_argument('--gpu_id', type=int, default=0, help='gpu device id')\n",
        "parser.add_argument('--init_channels', type=int, default=36, help='num of init channels')\n",
        "parser.add_argument('--layers', type=int, default=20, help='total number of layers')\n",
        "parser.add_argument('--pretrained_ckpt', type=str, default=None, help='path to pretrained checkpoint')\n",
        "parser.add_argument('--report_freq', type=float, default=50, help='report frequency')\n",
        "parser.add_argument('--seed', type=int, default=0, help='random seed')\n",
        "args = parser.parse_args(args=['--pretrained_ckpt', '/content/drive/Shareddrives/Mestrado_BarbaraMilagres/GitHub/DUDARTS/log/EXP-20240206-151353-bf893620-2d6e-4b7d-8233-4f87bec9c67f/best_weights.pt'])"
      ],
      "metadata": {
        "id": "ZkQBqjowgkCO"
      },
      "execution_count": null,
      "outputs": []
    },
    {
      "cell_type": "code",
      "source": [
        "def main():\n",
        "    utils.set_seed(args.seed)\n",
        "    logging.info('gpu device = %d' % args.gpu_id)\n",
        "    logging.info(\"args = %s\", args)\n",
        "    print(f'gpu device = {args.gpu_id}')\n",
        "    print(f'args = {args}')\n",
        "\n",
        "    genotype = eval(\"genotypes.%s\" % args.arch)\n",
        "    # model = Network(args.init_channels, CIFAR_CLASSES, args.layers, args.auxiliary, genotype)\n",
        "    model = torch.load(args.pretrained_ckpt)\n",
        "\n",
        "    model = model.cuda()\n",
        "\n",
        "    params = utils.count_parameters_in_MB(model)\n",
        "    logging.info(\"param size = %f M\", params)\n",
        "    print(f'\"param size = {params} M')\n",
        "\n",
        "    # load pretrained weights\n",
        "    # model.load_state_dict(torch.load(args.pretrained_ckpt))\n",
        "    logging.info(\"load pretrained weights done\")\n",
        "    print(\"load pretrained weights done\")\n",
        "\n",
        "    criterion = nn.CrossEntropyLoss()\n",
        "    criterion = criterion.cuda()\n",
        "\n",
        "    if args.dataset == 'cifar10':\n",
        "        train_transform, valid_transform = utils.data_transforms_cifar10(args)\n",
        "        valid_data = dset.CIFAR10(root=args.data+args.dataset, train=False, download=True, transform=valid_transform)\n",
        "    elif args.dataset == 'cifar100':\n",
        "        train_transform, valid_transform = utils.data_transforms_cifar100(args)\n",
        "        valid_data = dset.CIFAR100(root=args.data+args.dataset, train=False, download=True, transform=valid_transform)\n",
        "    elif args.dataset == 'brainMRI':\n",
        "        ext_list = ['.jpg', '.JPG', '.jpeg', '.png']\n",
        "        root_brain = '/content/drive/Shareddrives/Mestrado_BarbaraMilagres/GitHub/DUDARTS/dataset/brain_tumor_dataset'\n",
        "\n",
        "        train_transform, valid_transform = utils.data_transforms_brainMRI(args)\n",
        "        valid_data = dset.DatasetFolder(root = root_brain, loader =  utils.default_loader , extensions= ext_list, transform= valid_transform)\n",
        "    else:\n",
        "        raise ValueError('No Defined Dataset!!!')\n",
        "    valid_queue = torch.utils.data.DataLoader(\n",
        "        valid_data, batch_size=args.batch_size, shuffle=False, pin_memory=True, num_workers=2)\n",
        "\n",
        "    with torch.no_grad():\n",
        "        model.drop_path_prob = args.drop_path_prob\n",
        "        valid_acc, valid_obj = infer(valid_queue, model, criterion)\n",
        "        logging.info('valid_acc %f\\t', valid_acc)\n",
        "        print(f'valid_acc {valid_acc}')\n",
        "\n",
        "def infer(valid_queue, model, criterion):\n",
        "    objs = utils.AverageMeter()\n",
        "    top1 = utils.AverageMeter()\n",
        "    top5 = utils.AverageMeter()\n",
        "    model.eval()\n",
        "\n",
        "    for step, (input, target) in enumerate(valid_queue):\n",
        "        input = input.cuda()\n",
        "        target = target.cuda(non_blocking=True)\n",
        "\n",
        "        logits = model(input)\n",
        "        loss = criterion(logits, target)\n",
        "\n",
        "        prec1, prec5 = utils.accuracy(logits, target, topk=(1, 2))\n",
        "        n = input.size(0)\n",
        "        objs.update(loss.item(), n)\n",
        "        top1.update(prec1.item(), n)\n",
        "        top5.update(prec5.item(), n)\n",
        "\n",
        "        if step % args.report_freq == 0:\n",
        "            logging.info('valid %03d %e %f %f', step, objs.avg, top1.avg, top5.avg)\n",
        "            print(f'valid {step} {objs.avg} {top1.avg} {top5.avg}')\n",
        "    return top1.avg, objs.avg\n"
      ],
      "metadata": {
        "colab": {
          "base_uri": "https://localhost:8080/"
        },
        "id": "NSLlDO7abfot",
        "outputId": "ce00a107-6bfe-4ddd-f07e-cdaa40c1d20d"
      },
      "execution_count": null,
      "outputs": [
        {
          "output_type": "stream",
          "name": "stdout",
          "text": [
            "gpu device = 0\n",
            "args = Namespace(arch='du_darts_c10_s0', auxiliary=True, auxiliary_weight=0.4, batch_size=96, cutout=False, cutout_length=16, data='./dataset/', dataset='brainMRI', drop_path_prob=0.2, gpu_id=0, init_channels=36, layers=20, pretrained_ckpt='/content/drive/Shareddrives/Mestrado_BarbaraMilagres/GitHub/DUDARTS/log/EXP-20240206-151353-bf893620-2d6e-4b7d-8233-4f87bec9c67f/weights.pt', report_freq=50, seed=0)\n",
            "\"param size = 1.928562 M\n",
            "load pretrained weights done\n",
            "valid 0 0.00016850912652444094 100.0 100.0\n",
            "valid_acc 100.0\n"
          ]
        }
      ]
    },
    {
      "cell_type": "code",
      "source": [
        "log_format = '%(asctime)s %(message)s'\n",
        "logging.basicConfig(stream=sys.stdout, level=logging.INFO,\n",
        "                    format=log_format, datefmt='%m/%d %I:%M:%S %p')\n",
        "\n",
        "if args.dataset == 'cifar10':\n",
        "    CIFAR_CLASSES = 10\n",
        "elif args.dataset == 'cifar100':\n",
        "    CIFAR_CLASSES = 100\n",
        "elif args.dataset == 'brainMRI':\n",
        "    CIFAR_CLASSES = 2\n",
        "else:\n",
        "    raise ValueError('No Defined Dataset!!!')\n",
        "\n",
        "\n",
        "if __name__ == '__main__':\n",
        "    main()\n"
      ],
      "metadata": {
        "id": "M3eAB-WCSdEu"
      },
      "execution_count": null,
      "outputs": []
    }
  ],
  "metadata": {
    "accelerator": "GPU",
    "colab": {
      "provenance": [],
      "gpuType": "T4"
    },
    "kernelspec": {
      "display_name": "Python 3",
      "name": "python3"
    },
    "language_info": {
      "name": "python"
    }
  },
  "nbformat": 4,
  "nbformat_minor": 0
}