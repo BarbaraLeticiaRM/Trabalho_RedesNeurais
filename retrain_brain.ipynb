{
  "cells": [
    {
      "cell_type": "markdown",
      "metadata": {
        "id": "dYhyo7z6VXAQ"
      },
      "source": [
        "# Instalando pacotes\n"
      ]
    },
    {
      "cell_type": "code",
      "execution_count": null,
      "metadata": {
        "id": "RCmztVJdVWwK",
        "colab": {
          "base_uri": "https://localhost:8080/"
        },
        "outputId": "603e0ea5-45df-4d73-e1cb-3eb5804af574"
      },
      "outputs": [
        {
          "output_type": "stream",
          "name": "stdout",
          "text": [
            "Reading package lists... Done\n",
            "Building dependency tree... Done\n",
            "Reading state information... Done\n",
            "The following additional packages will be installed:\n",
            "  libpython3.7-minimal libpython3.7-stdlib mailcap mime-support\n",
            "  python3.7-minimal\n",
            "Suggested packages:\n",
            "  python3.7-venv binfmt-support\n",
            "The following NEW packages will be installed:\n",
            "  libpython3.7-minimal libpython3.7-stdlib mailcap mime-support python3.7\n",
            "  python3.7-minimal\n",
            "0 upgraded, 6 newly installed, 0 to remove and 32 not upgraded.\n",
            "Need to get 4,698 kB of archives.\n",
            "After this operation, 17.8 MB of additional disk space will be used.\n",
            "Get:1 http://archive.ubuntu.com/ubuntu jammy/main amd64 mailcap all 3.70+nmu1ubuntu1 [23.8 kB]\n",
            "Get:2 http://archive.ubuntu.com/ubuntu jammy/main amd64 mime-support all 3.66 [3,696 B]\n",
            "Get:3 https://ppa.launchpadcontent.net/deadsnakes/ppa/ubuntu jammy/main amd64 libpython3.7-minimal amd64 3.7.17-1+jammy1 [608 kB]\n",
            "Get:4 https://ppa.launchpadcontent.net/deadsnakes/ppa/ubuntu jammy/main amd64 python3.7-minimal amd64 3.7.17-1+jammy1 [1,837 kB]\n",
            "Get:5 https://ppa.launchpadcontent.net/deadsnakes/ppa/ubuntu jammy/main amd64 libpython3.7-stdlib amd64 3.7.17-1+jammy1 [1,864 kB]\n",
            "Get:6 https://ppa.launchpadcontent.net/deadsnakes/ppa/ubuntu jammy/main amd64 python3.7 amd64 3.7.17-1+jammy1 [362 kB]\n",
            "Fetched 4,698 kB in 10s (482 kB/s)\n",
            "debconf: unable to initialize frontend: Dialog\n",
            "debconf: (No usable dialog-like program is installed, so the dialog based frontend cannot be used. at /usr/share/perl5/Debconf/FrontEnd/Dialog.pm line 78, <> line 6.)\n",
            "debconf: falling back to frontend: Readline\n",
            "debconf: unable to initialize frontend: Readline\n",
            "debconf: (This frontend requires a controlling tty.)\n",
            "debconf: falling back to frontend: Teletype\n",
            "dpkg-preconfigure: unable to re-open stdin: \n",
            "Selecting previously unselected package libpython3.7-minimal:amd64.\n",
            "(Reading database ... 121747 files and directories currently installed.)\n",
            "Preparing to unpack .../0-libpython3.7-minimal_3.7.17-1+jammy1_amd64.deb ...\n",
            "Unpacking libpython3.7-minimal:amd64 (3.7.17-1+jammy1) ...\n",
            "Selecting previously unselected package python3.7-minimal.\n",
            "Preparing to unpack .../1-python3.7-minimal_3.7.17-1+jammy1_amd64.deb ...\n",
            "Unpacking python3.7-minimal (3.7.17-1+jammy1) ...\n",
            "Selecting previously unselected package mailcap.\n",
            "Preparing to unpack .../2-mailcap_3.70+nmu1ubuntu1_all.deb ...\n",
            "Unpacking mailcap (3.70+nmu1ubuntu1) ...\n",
            "Selecting previously unselected package mime-support.\n",
            "Preparing to unpack .../3-mime-support_3.66_all.deb ...\n",
            "Unpacking mime-support (3.66) ...\n",
            "Selecting previously unselected package libpython3.7-stdlib:amd64.\n",
            "Preparing to unpack .../4-libpython3.7-stdlib_3.7.17-1+jammy1_amd64.deb ...\n",
            "Unpacking libpython3.7-stdlib:amd64 (3.7.17-1+jammy1) ...\n",
            "Selecting previously unselected package python3.7.\n",
            "Preparing to unpack .../5-python3.7_3.7.17-1+jammy1_amd64.deb ...\n",
            "Unpacking python3.7 (3.7.17-1+jammy1) ...\n",
            "Setting up libpython3.7-minimal:amd64 (3.7.17-1+jammy1) ...\n",
            "Setting up python3.7-minimal (3.7.17-1+jammy1) ...\n",
            "Setting up mailcap (3.70+nmu1ubuntu1) ...\n",
            "Setting up mime-support (3.66) ...\n",
            "Setting up libpython3.7-stdlib:amd64 (3.7.17-1+jammy1) ...\n",
            "Setting up python3.7 (3.7.17-1+jammy1) ...\n",
            "Processing triggers for man-db (2.10.2-1) ...\n",
            "Get:1 https://cloud.r-project.org/bin/linux/ubuntu jammy-cran40/ InRelease [3,626 B]\n",
            "Get:2 https://developer.download.nvidia.com/compute/cuda/repos/ubuntu2204/x86_64  InRelease [1,581 B]\n",
            "Hit:3 http://archive.ubuntu.com/ubuntu jammy InRelease\n",
            "Get:4 http://security.ubuntu.com/ubuntu jammy-security InRelease [110 kB]\n",
            "Get:5 https://developer.download.nvidia.com/compute/cuda/repos/ubuntu2204/x86_64  Packages [668 kB]\n",
            "Get:6 http://archive.ubuntu.com/ubuntu jammy-updates InRelease [119 kB]\n",
            "Get:7 https://ppa.launchpadcontent.net/c2d4u.team/c2d4u4.0+/ubuntu jammy InRelease [18.1 kB]\n",
            "Hit:8 https://ppa.launchpadcontent.net/deadsnakes/ppa/ubuntu jammy InRelease\n",
            "Get:9 http://security.ubuntu.com/ubuntu jammy-security/main amd64 Packages [1,399 kB]\n",
            "Hit:10 http://archive.ubuntu.com/ubuntu jammy-backports InRelease\n",
            "Hit:11 https://ppa.launchpadcontent.net/graphics-drivers/ppa/ubuntu jammy InRelease\n",
            "Hit:12 https://ppa.launchpadcontent.net/ubuntugis/ppa/ubuntu jammy InRelease\n",
            "Get:13 http://archive.ubuntu.com/ubuntu jammy-updates/restricted amd64 Packages [1,728 kB]\n",
            "Get:14 https://ppa.launchpadcontent.net/c2d4u.team/c2d4u4.0+/ubuntu jammy/main Sources [2,268 kB]\n",
            "Get:15 http://security.ubuntu.com/ubuntu jammy-security/universe amd64 Packages [1,064 kB]\n",
            "Get:16 http://archive.ubuntu.com/ubuntu jammy-updates/main amd64 Packages [1,680 kB]\n",
            "Get:17 http://archive.ubuntu.com/ubuntu jammy-updates/universe amd64 Packages [1,334 kB]\n",
            "Get:18 https://ppa.launchpadcontent.net/c2d4u.team/c2d4u4.0+/ubuntu jammy/main amd64 Packages [1,164 kB]\n",
            "Fetched 11.6 MB in 5s (2,392 kB/s)\n",
            "Reading package lists... Done\n",
            "update-alternatives: using /usr/bin/python3.7 to provide /usr/bin/python3 (python3) in auto mode\n",
            "There is only one alternative in link group python3 (providing /usr/bin/python3): /usr/bin/python3.7\n",
            "Nothing to configure.\n"
          ]
        }
      ],
      "source": [
        "!sudo apt-get install python3.7\n",
        "!sudo apt-get update -y\n",
        "!sudo update-alternatives --install /usr/bin/python3 python3 /usr/bin/python3.7 1\n",
        "!sudo update-alternatives --config python3"
      ]
    },
    {
      "cell_type": "code",
      "execution_count": null,
      "metadata": {
        "id": "_uGPX4HQVx75",
        "colab": {
          "base_uri": "https://localhost:8080/"
        },
        "outputId": "549dc324-5137-44ee-e002-5f2186707646"
      },
      "outputs": [
        {
          "output_type": "stream",
          "name": "stdout",
          "text": [
            "Reading package lists... Done\n",
            "Building dependency tree... Done\n",
            "Reading state information... Done\n",
            "The following additional packages will be installed:\n",
            "  python3.7-lib2to3\n",
            "The following NEW packages will be installed:\n",
            "  python3.7-distutils python3.7-lib2to3\n",
            "0 upgraded, 2 newly installed, 0 to remove and 34 not upgraded.\n",
            "Need to get 313 kB of archives.\n",
            "After this operation, 1,229 kB of additional disk space will be used.\n",
            "Get:1 https://ppa.launchpadcontent.net/deadsnakes/ppa/ubuntu jammy/main amd64 python3.7-lib2to3 all 3.7.17-1+jammy1 [124 kB]\n",
            "Get:2 https://ppa.launchpadcontent.net/deadsnakes/ppa/ubuntu jammy/main amd64 python3.7-distutils all 3.7.17-1+jammy1 [189 kB]\n",
            "Fetched 313 kB in 1s (296 kB/s)\n",
            "debconf: unable to initialize frontend: Dialog\n",
            "debconf: (No usable dialog-like program is installed, so the dialog based frontend cannot be used. at /usr/share/perl5/Debconf/FrontEnd/Dialog.pm line 78, <> line 2.)\n",
            "debconf: falling back to frontend: Readline\n",
            "debconf: unable to initialize frontend: Readline\n",
            "debconf: (This frontend requires a controlling tty.)\n",
            "debconf: falling back to frontend: Teletype\n",
            "dpkg-preconfigure: unable to re-open stdin: \n",
            "Selecting previously unselected package python3.7-lib2to3.\n",
            "(Reading database ... 122392 files and directories currently installed.)\n",
            "Preparing to unpack .../python3.7-lib2to3_3.7.17-1+jammy1_all.deb ...\n",
            "Unpacking python3.7-lib2to3 (3.7.17-1+jammy1) ...\n",
            "Selecting previously unselected package python3.7-distutils.\n",
            "Preparing to unpack .../python3.7-distutils_3.7.17-1+jammy1_all.deb ...\n",
            "Unpacking python3.7-distutils (3.7.17-1+jammy1) ...\n",
            "Setting up python3.7-lib2to3 (3.7.17-1+jammy1) ...\n",
            "Setting up python3.7-distutils (3.7.17-1+jammy1) ...\n",
            "--2024-02-06 15:05:45--  https://bootstrap.pypa.io/get-pip.py\n",
            "Resolving bootstrap.pypa.io (bootstrap.pypa.io)... 151.101.0.175, 151.101.64.175, 151.101.128.175, ...\n",
            "Connecting to bootstrap.pypa.io (bootstrap.pypa.io)|151.101.0.175|:443... connected.\n",
            "HTTP request sent, awaiting response... 200 OK\n",
            "Length: 2635835 (2.5M) [text/x-python]\n",
            "Saving to: ‘get-pip.py’\n",
            "\n",
            "get-pip.py          100%[===================>]   2.51M  --.-KB/s    in 0.07s   \n",
            "\n",
            "2024-02-06 15:05:45 (38.6 MB/s) - ‘get-pip.py’ saved [2635835/2635835]\n",
            "\n",
            "Collecting pip\n",
            "  Downloading pip-24.0-py3-none-any.whl.metadata (3.6 kB)\n",
            "Collecting setuptools\n",
            "  Downloading setuptools-68.0.0-py3-none-any.whl.metadata (6.4 kB)\n",
            "Collecting wheel\n",
            "  Downloading wheel-0.42.0-py3-none-any.whl.metadata (2.2 kB)\n",
            "Downloading pip-24.0-py3-none-any.whl (2.1 MB)\n",
            "\u001b[2K   \u001b[90m━━━━━━━━━━━━━━━━━━━━━━━━━━━━━━━━━━━━━━━━\u001b[0m \u001b[32m2.1/2.1 MB\u001b[0m \u001b[31m11.2 MB/s\u001b[0m eta \u001b[36m0:00:00\u001b[0m\n",
            "\u001b[?25hDownloading setuptools-68.0.0-py3-none-any.whl (804 kB)\n",
            "\u001b[2K   \u001b[90m━━━━━━━━━━━━━━━━━━━━━━━━━━━━━━━━━━━━━━━━\u001b[0m \u001b[32m804.0/804.0 kB\u001b[0m \u001b[31m47.5 MB/s\u001b[0m eta \u001b[36m0:00:00\u001b[0m\n",
            "\u001b[?25hDownloading wheel-0.42.0-py3-none-any.whl (65 kB)\n",
            "\u001b[2K   \u001b[90m━━━━━━━━━━━━━━━━━━━━━━━━━━━━━━━━━━━━━━━━\u001b[0m \u001b[32m65.4/65.4 kB\u001b[0m \u001b[31m5.6 MB/s\u001b[0m eta \u001b[36m0:00:00\u001b[0m\n",
            "\u001b[?25hInstalling collected packages: wheel, setuptools, pip\n",
            "Successfully installed pip-24.0 setuptools-68.0.0 wheel-0.42.0\n",
            "\u001b[33mWARNING: Running pip as the 'root' user can result in broken permissions and conflicting behaviour with the system package manager. It is recommended to use a virtual environment instead: https://pip.pypa.io/warnings/venv\u001b[0m\u001b[33m\n",
            "\u001b[0m"
          ]
        }
      ],
      "source": [
        "!sudo apt-get install python3.7-distutils\n",
        "!wget https://bootstrap.pypa.io/get-pip.py\n",
        "!python get-pip.py"
      ]
    },
    {
      "cell_type": "code",
      "execution_count": null,
      "metadata": {
        "id": "UvTDoEBZV4Rq",
        "colab": {
          "base_uri": "https://localhost:8080/"
        },
        "outputId": "68987a36-e293-4b6b-8707-6c04a073ee61"
      },
      "outputs": [
        {
          "output_type": "stream",
          "name": "stdout",
          "text": [
            "Collecting torch==1.7.1\n",
            "  Downloading torch-1.7.1-cp37-cp37m-manylinux1_x86_64.whl (776.8 MB)\n",
            "\u001b[2K     \u001b[90m━━━━━━━━━━━━━━━━━━━━━━━━━━━━━━━━━━━━━━━━\u001b[0m \u001b[32m776.8/776.8 MB\u001b[0m \u001b[31m2.6 MB/s\u001b[0m eta \u001b[36m0:00:00\u001b[0m\n",
            "\u001b[?25hCollecting torchvision==0.8.2\n",
            "  Downloading torchvision-0.8.2-cp37-cp37m-manylinux1_x86_64.whl (12.8 MB)\n",
            "\u001b[2K     \u001b[90m━━━━━━━━━━━━━━━━━━━━━━━━━━━━━━━━━━━━━━━━\u001b[0m \u001b[32m12.8/12.8 MB\u001b[0m \u001b[31m56.2 MB/s\u001b[0m eta \u001b[36m0:00:00\u001b[0m\n",
            "\u001b[?25hCollecting torchaudio==0.7.2\n",
            "  Downloading torchaudio-0.7.2-cp37-cp37m-manylinux1_x86_64.whl (7.6 MB)\n",
            "\u001b[2K     \u001b[90m━━━━━━━━━━━━━━━━━━━━━━━━━━━━━━━━━━━━━━━━\u001b[0m \u001b[32m7.6/7.6 MB\u001b[0m \u001b[31m61.4 MB/s\u001b[0m eta \u001b[36m0:00:00\u001b[0m\n",
            "\u001b[?25hCollecting typing-extensions (from torch==1.7.1)\n",
            "  Downloading typing_extensions-4.7.1-py3-none-any.whl.metadata (3.1 kB)\n",
            "Collecting numpy (from torch==1.7.1)\n",
            "  Downloading numpy-1.21.6-cp37-cp37m-manylinux_2_12_x86_64.manylinux2010_x86_64.whl (15.7 MB)\n",
            "\u001b[2K     \u001b[90m━━━━━━━━━━━━━━━━━━━━━━━━━━━━━━━━━━━━━━━━\u001b[0m \u001b[32m15.7/15.7 MB\u001b[0m \u001b[31m54.0 MB/s\u001b[0m eta \u001b[36m0:00:00\u001b[0m\n",
            "\u001b[?25hCollecting pillow>=4.1.1 (from torchvision==0.8.2)\n",
            "  Downloading Pillow-9.5.0-cp37-cp37m-manylinux_2_28_x86_64.whl (3.4 MB)\n",
            "\u001b[2K     \u001b[90m━━━━━━━━━━━━━━━━━━━━━━━━━━━━━━━━━━━━━━━━\u001b[0m \u001b[32m3.4/3.4 MB\u001b[0m \u001b[31m50.2 MB/s\u001b[0m eta \u001b[36m0:00:00\u001b[0m\n",
            "\u001b[?25hDownloading typing_extensions-4.7.1-py3-none-any.whl (33 kB)\n",
            "Installing collected packages: typing-extensions, pillow, numpy, torch, torchvision, torchaudio\n",
            "Successfully installed numpy-1.21.6 pillow-9.5.0 torch-1.7.1 torchaudio-0.7.2 torchvision-0.8.2 typing-extensions-4.7.1\n",
            "\u001b[33mWARNING: Running pip as the 'root' user can result in broken permissions and conflicting behaviour with the system package manager. It is recommended to use a virtual environment instead: https://pip.pypa.io/warnings/venv\u001b[0m\u001b[33m\n",
            "\u001b[0m"
          ]
        }
      ],
      "source": [
        "!pip install torch==1.7.1 torchvision==0.8.2 torchaudio==0.7.2"
      ]
    },
    {
      "cell_type": "markdown",
      "metadata": {
        "id": "H1IVaAqhbw_h"
      },
      "source": [
        "# Código"
      ]
    },
    {
      "cell_type": "code",
      "execution_count": null,
      "metadata": {
        "colab": {
          "base_uri": "https://localhost:8080/"
        },
        "id": "r258bBMGyt8I",
        "outputId": "b93e4638-bcfe-49da-f3fc-e6e7882803e0"
      },
      "outputs": [
        {
          "output_type": "stream",
          "name": "stdout",
          "text": [
            "Mounted at /content/drive\n"
          ]
        }
      ],
      "source": [
        "from google.colab import drive\n",
        "drive.mount('/content/drive')"
      ]
    },
    {
      "cell_type": "code",
      "execution_count": null,
      "metadata": {
        "id": "SXKh99g34BBy"
      },
      "outputs": [],
      "source": [
        "import sys\n",
        "sys.path.append('/content/drive/Shareddrives/Mestrado_BarbaraMilagres/GitHub/DUDARTS')"
      ]
    },
    {
      "cell_type": "code",
      "execution_count": null,
      "metadata": {
        "colab": {
          "base_uri": "https://localhost:8080/"
        },
        "id": "3RyScL_ScMVl",
        "outputId": "e0503664-0627-4ba8-d9ee-b76feaab96be"
      },
      "outputs": [
        {
          "output_type": "stream",
          "name": "stdout",
          "text": [
            "/content/drive/Shareddrives/Mestrado_BarbaraMilagres/GitHub/DUDARTS\n"
          ]
        }
      ],
      "source": [
        "%cd /content/drive/Shareddrives/Mestrado_BarbaraMilagres/GitHub/DUDARTS"
      ]
    },
    {
      "cell_type": "code",
      "source": [
        "import os\n",
        "import sys\n",
        "import time\n",
        "import glob\n",
        "import random\n",
        "import numpy as np\n",
        "import torch\n",
        "import utils\n",
        "import logging\n",
        "import argparse\n",
        "import torch.nn as nn\n",
        "import genotypes\n",
        "import torch.utils\n",
        "import torchvision.datasets as dset\n",
        "import torch.backends.cudnn as cudnn\n",
        "import uuid\n",
        "from model import NetworkCIFAR as Network\n"
      ],
      "metadata": {
        "id": "K_rx2DGrSJIH"
      },
      "execution_count": null,
      "outputs": []
    },
    {
      "cell_type": "code",
      "source": [
        "parser = argparse.ArgumentParser(\"cifar\")\n",
        "parser.add_argument('--data', type=str, default='./dataset/', help='location of the data corpus')\n",
        "parser.add_argument('--dataset', type=str, default='cifar10', help='dataset')\n",
        "parser.add_argument('--batch_size', type=int, default=96, help='batch size')\n",
        "parser.add_argument('--learning_rate', type=float, default=0.025, help='init learning rate')\n",
        "parser.add_argument('--momentum', type=float, default=0.9, help='momentum')\n",
        "parser.add_argument('--weight_decay', type=float, default=3e-4, help='weight decay')\n",
        "parser.add_argument('--report_freq', type=float, default=50, help='report frequency')\n",
        "parser.add_argument('--gpu_id', type=int, default=0, help='gpu device id')\n",
        "parser.add_argument('--epochs', type=int, default=50, help='num of training epochs')\n",
        "parser.add_argument('--init_channels', type=int, default=36, help='num of init channels')\n",
        "parser.add_argument('--layers', type=int, default=20, help='total number of layers')\n",
        "parser.add_argument('--model_path', type=str, default='saved_models', help='path to save the model')\n",
        "parser.add_argument('--auxiliary', action='store_true', default=False, help='use auxiliary tower')\n",
        "parser.add_argument('--auxiliary_weight', type=float, default=0.4, help='weight for auxiliary loss')\n",
        "parser.add_argument('--cutout', action='store_true', default=False, help='use cutout')\n",
        "parser.add_argument('--cutout_length', type=int, default=16, help='cutout length')\n",
        "parser.add_argument('--drop_path_prob', type=float, default=0.2, help='drop path probability')\n",
        "parser.add_argument('--save', type=str, default='EXP', help='experiment name')\n",
        "parser.add_argument('--seed', type=int, default=0, help='random seed')\n",
        "parser.add_argument('--arch', type=str, default='du_darts_c10_s0', help='which architecture to use')\n",
        "parser.add_argument('--grad_clip', type=float, default=5, help='gradient clipping')\n",
        "parser.add_argument('--pretrained_ckpt', type=str, default=None, help='path to pretrained checkpoint')\n",
        "args = parser.parse_args(args=['--dataset', 'brainMRI', '--arch', 'du_darts_c10_s0', '--pretrained_ckpt', '/content/drive/Shareddrives/Mestrado_BarbaraMilagres/GitHub/DUDARTS/log/search-brainMRI--20240206-144420/weights.pt'])\n"
      ],
      "metadata": {
        "id": "dHiikPPoSTlj"
      },
      "execution_count": null,
      "outputs": []
    },
    {
      "cell_type": "code",
      "source": [
        "def main():\n",
        "    if not torch.cuda.is_available():\n",
        "        logging.info('no gpu device available')\n",
        "        sys.exit(1)\n",
        "\n",
        "    utils.set_seed(seed=args.seed)\n",
        "\n",
        "    logging.info('gpu device = %d' % args.gpu_id)\n",
        "    logging.info(\"args = %s\", args)\n",
        "    print(f'gpu device = {args.gpu_id}')\n",
        "    print(f'args = {args}')\n",
        "\n",
        "    genotype = eval(\"genotypes.%s\" % args.arch)\n",
        "    # model = Network(args.init_channels, CIFAR_CLASSES, args.layers, args.auxiliary, genotype)\n",
        "    model = torch.load(args.pretrained_ckpt)\n",
        "    model = model.cuda()\n",
        "\n",
        "    params = utils.count_parameters_in_MB(model)\n",
        "    logging.info(\"param size = %fMB\", params)\n",
        "    print(f'param size = {params}MB')\n",
        "\n",
        "    criterion = nn.CrossEntropyLoss()\n",
        "    criterion = criterion.cuda()\n",
        "    optimizer = torch.optim.SGD(\n",
        "        model.parameters(),\n",
        "        args.learning_rate,\n",
        "        momentum=args.momentum,\n",
        "        weight_decay=args.weight_decay\n",
        "    )\n",
        "\n",
        "    if args.dataset == 'cifar10':\n",
        "        train_transform, valid_transform = utils.data_transforms_cifar10(args)\n",
        "        train_data = dset.CIFAR10(root=args.data+args.dataset, train=True, download=True, transform=train_transform)\n",
        "        valid_data = dset.CIFAR10(root=args.data+args.dataset, train=False, download=True, transform=valid_transform)\n",
        "    elif args.dataset == 'cifar100':\n",
        "        train_transform, valid_transform = utils.data_transforms_cifar100(args)\n",
        "        train_data = dset.CIFAR100(root=args.data+args.dataset, train=True, download=True, transform=train_transform)\n",
        "        valid_data = dset.CIFAR100(root=args.data+args.dataset, train=False, download=True, transform=valid_transform)\n",
        "    elif args.dataset == 'brainMRI':\n",
        "        ext_list = ['.jpg', '.JPG', '.jpeg', '.png']\n",
        "        root_brain = '/content/drive/Shareddrives/Mestrado_BarbaraMilagres/GitHub/DUDARTS/dataset/brain_tumor_dataset'\n",
        "\n",
        "        train_transform, valid_transform = utils.data_transforms_brainMRI(args)\n",
        "        train_data = dset.DatasetFolder(root = root_brain, loader =  utils.default_loader , extensions= ext_list, transform= train_transform)\n",
        "        valid_data = dset.DatasetFolder(root = root_brain, loader =  utils.default_loader , extensions= ext_list, transform= valid_transform)\n",
        "    else:\n",
        "\n",
        "        raise ValueError('No Defined Dataset!!!')\n",
        "\n",
        "    train_queue = torch.utils.data.DataLoader(\n",
        "        train_data, batch_size=args.batch_size, shuffle=True, pin_memory=True, num_workers=2)\n",
        "\n",
        "    valid_queue = torch.utils.data.DataLoader(\n",
        "        valid_data, batch_size=args.batch_size, shuffle=False, pin_memory=True, num_workers=2)\n",
        "\n",
        "    scheduler = torch.optim.lr_scheduler.CosineAnnealingLR(optimizer, float(args.epochs))\n",
        "\n",
        "    best_val_acc = 0.\n",
        "    for epoch in range(args.epochs):\n",
        "        scheduler.step()\n",
        "        print(f'\\n\\nepoch {epoch} lr {scheduler.get_lr()[0]}')\n",
        "        logging.info('epoch %d lr %e', epoch, scheduler.get_lr()[0])\n",
        "        model.drop_path_prob = args.drop_path_prob * epoch / args.epochs\n",
        "\n",
        "        train_acc, train_obj = train(train_queue, model, criterion, optimizer)\n",
        "        print(f'train_acc {train_acc}')\n",
        "        logging.info('train_acc %f', train_acc)\n",
        "\n",
        "        with torch.no_grad():\n",
        "            valid_acc, valid_obj = infer(valid_queue, model, criterion)\n",
        "            if valid_acc > best_val_acc:\n",
        "                best_val_acc = valid_acc\n",
        "                utils.save_entire_model(model, os.path.join(args.save, 'best_weights.pt'))\n",
        "            logging.info('valid_acc %f\\tbest_val_acc %f', valid_acc, best_val_acc)\n",
        "            print(f'valid_acc {valid_acc} best_val_acc {best_val_acc}')\n",
        "\n",
        "        utils.save_entire_model(model, os.path.join(args.save, 'weights.pt'))\n",
        "    # with open('./results/retrain_%s.txt' % args.dataset, 'a') as f:\n",
        "    #     f.write(\"model:%s\\tparams:%.2f\\tbest_val_acc: %s\\n\"\n",
        "    #             % (args.arch, params, best_val_acc))\n",
        "\n",
        "    return best_val_acc\n",
        "\n",
        "\n",
        "def train(train_queue, model, criterion, optimizer):\n",
        "    objs = utils.AverageMeter()\n",
        "    top1 = utils.AverageMeter()\n",
        "    top5 = utils.AverageMeter()\n",
        "    model.train()\n",
        "\n",
        "    for step, (input, target) in enumerate(train_queue):\n",
        "        # input = Variable(input).cuda()\n",
        "        # target = Variable(target).cuda(async=True)\n",
        "        input = input.cuda()\n",
        "        target = target.cuda(non_blocking=True)\n",
        "\n",
        "        optimizer.zero_grad()\n",
        "        # print(model(input))\n",
        "        # logits, logits_aux = model(input)\n",
        "        logits = model(input)\n",
        "        # loss = criterion(logits_aux, target)\n",
        "        loss = criterion(logits, target)\n",
        "        if args.auxiliary:\n",
        "            loss_aux = criterion(logits, target)\n",
        "            loss += args.auxiliary_weight * loss_aux\n",
        "        loss.backward()\n",
        "        nn.utils.clip_grad_norm_(model.parameters(), args.grad_clip)\n",
        "        optimizer.step()\n",
        "\n",
        "        prec1, prec5 = utils.accuracy(logits, target, topk=(1, 2))\n",
        "        n = input.size(0)\n",
        "        objs.update(loss.item(), n)\n",
        "        top1.update(prec1.item(), n)\n",
        "        top5.update(prec5.item(), n)\n",
        "\n",
        "        if step % args.report_freq == 0:\n",
        "            logging.info('train %03d %e %f %f', step, objs.avg, top1.avg, top5.avg)\n",
        "            print(f'train {step} {objs.avg} {top1.avg} {top5.avg}')\n",
        "    return top1.avg, objs.avg\n",
        "\n",
        "\n",
        "def infer(valid_queue, model, criterion):\n",
        "    objs = utils.AverageMeter()\n",
        "    top1 = utils.AverageMeter()\n",
        "    top5 = utils.AverageMeter()\n",
        "    model.eval()\n",
        "\n",
        "    for step, (input, target) in enumerate(valid_queue):\n",
        "        # input = Variable(input).cuda()\n",
        "        # target = Variable(target).cuda(async=True)\n",
        "        input = input.cuda()\n",
        "        target = target.cuda(non_blocking=True)\n",
        "\n",
        "        logits = model(input)\n",
        "        loss = criterion(logits, target)\n",
        "\n",
        "        prec1, prec5 = utils.accuracy(logits, target, topk=(1, 2))\n",
        "        n = input.size(0)\n",
        "        objs.update(loss.item(), n)\n",
        "        top1.update(prec1.item(), n)\n",
        "        top5.update(prec5.item(), n)\n",
        "\n",
        "        if step % args.report_freq == 0:\n",
        "            logging.info('valid %03d %e %f %f', step, objs.avg, top1.avg, top5.avg)\n",
        "            print(f'valid {step} {objs.avg} {top1.avg} {top5.avg}')\n",
        "    return top1.avg, objs.avg\n",
        "\n"
      ],
      "metadata": {
        "id": "JUfHHp0mFI-S"
      },
      "execution_count": null,
      "outputs": []
    },
    {
      "cell_type": "code",
      "source": [
        "# args.save = args.arch\n",
        "args.save = 'log/{}-{}-{}'.format(args.save, time.strftime(\"%Y%m%d-%H%M%S\"), str(uuid.uuid4()))\n",
        "utils.create_exp_dir(args.save, scripts_to_save=glob.glob('*.py'))\n",
        "\n",
        "log_format = '%(asctime)s %(message)s'\n",
        "logging.basicConfig(stream=sys.stdout, level=logging.INFO,\n",
        "                    format=log_format, datefmt='%m/%d %I:%M:%S %p')\n",
        "fh = logging.FileHandler(os.path.join(args.save, 'log.txt'))\n",
        "fh.setFormatter(logging.Formatter(log_format))\n",
        "logging.getLogger().addHandler(fh)\n",
        "\n",
        "if args.dataset == 'cifar10':\n",
        "    CIFAR_CLASSES = 10\n",
        "elif args.dataset == 'cifar100':\n",
        "    CIFAR_CLASSES = 100\n",
        "elif args.dataset == 'brainMRI':\n",
        "    CIFAR_CLASSES = 2\n",
        "else:\n",
        "    raise ValueError('No Defined Dataset!!!')\n",
        "\n",
        "\n",
        "if __name__ == '__main__':\n",
        "    utils.run_func(args, main)\n"
      ],
      "metadata": {
        "id": "LbiGhiVtSM9d"
      },
      "execution_count": null,
      "outputs": []
    }
  ],
  "metadata": {
    "accelerator": "GPU",
    "colab": {
      "provenance": [],
      "gpuType": "T4"
    },
    "kernelspec": {
      "display_name": "Python 3",
      "name": "python3"
    },
    "language_info": {
      "name": "python"
    }
  },
  "nbformat": 4,
  "nbformat_minor": 0
}