{
  "cells": [
    {
      "cell_type": "code",
      "source": [
        "from google.colab import drive\n",
        "drive.mount('/content/drive')"
      ],
      "metadata": {
        "colab": {
          "base_uri": "https://localhost:8080/"
        },
        "id": "2hbuaVTSV7lW",
        "outputId": "a110b078-53be-4452-bee6-a546dfe33157"
      },
      "execution_count": null,
      "outputs": [
        {
          "output_type": "stream",
          "name": "stdout",
          "text": [
            "Mounted at /content/drive\n"
          ]
        }
      ]
    },
    {
      "cell_type": "code",
      "source": [
        "import torch\n",
        "from torchvision import transforms\n",
        "from torchvision.datasets import DatasetFolder\n",
        "from PIL import Image"
      ],
      "metadata": {
        "id": "40trHwIoHTBQ"
      },
      "execution_count": null,
      "outputs": []
    },
    {
      "cell_type": "code",
      "source": [
        "def custom_loader(image_path):\n",
        "    transform = transforms.Compose([\n",
        "        transforms.Resize((32, 32)),\n",
        "        transforms.ToTensor(),\n",
        "    ])\n",
        "\n",
        "    image = Image.open(image_path).convert('RGB')\n",
        "    image = transform(image)\n",
        "\n",
        "    return image\n",
        "\n",
        "def create_dataset(root, loader=custom_loader):\n",
        "    ext = ['.jpg', '.JPG', '.jpeg', '.png']\n",
        "    dataset = DatasetFolder(root=root, loader=loader, extensions=ext)\n",
        "    return dataset\n",
        "\n",
        "def calculate_mean_std(dataset):\n",
        "    mean = torch.zeros(3)\n",
        "    std = torch.zeros(3)\n",
        "\n",
        "    loader = torch.utils.data.DataLoader(dataset, batch_size=1, shuffle=False)\n",
        "\n",
        "    num_samples = 0\n",
        "    for data, _ in loader:\n",
        "        batch_mean = torch.mean(data, dim=(0, 2, 3))\n",
        "        batch_std = torch.std(data, dim=(0, 2, 3))\n",
        "\n",
        "        mean += batch_mean\n",
        "        std += batch_std\n",
        "        num_samples += 1\n",
        "\n",
        "    mean /= num_samples\n",
        "    std /= num_samples\n",
        "\n",
        "    return mean, std"
      ],
      "metadata": {
        "id": "Abj0Vht3Vb_n"
      },
      "execution_count": null,
      "outputs": []
    },
    {
      "cell_type": "code",
      "source": [
        "root_path = \"/content/drive/Shareddrives/Mestrado_BarbaraMilagres/GitHub/DUDARTS/dataset/brain_tumor_dataset\"\n",
        "custom_dataset = create_dataset(root_path, loader=custom_loader)\n",
        "\n",
        "mean, std = calculate_mean_std(custom_dataset)\n",
        "\n",
        "print(f'Média: {mean}')\n",
        "print(f'Desvio Padrão: {std}')\n"
      ],
      "metadata": {
        "colab": {
          "base_uri": "https://localhost:8080/"
        },
        "id": "jRz_-PB6HW4d",
        "outputId": "c81d48f2-0e12-4325-bdd9-741efaea2d81"
      },
      "execution_count": null,
      "outputs": [
        {
          "output_type": "stream",
          "name": "stdout",
          "text": [
            "Média: tensor([0.2481, 0.2484, 0.2485])\n",
            "Desvio Padrão: tensor([0.1820, 0.1822, 0.1824])\n"
          ]
        }
      ]
    }
  ],
  "metadata": {
    "colab": {
      "provenance": []
    },
    "kernelspec": {
      "display_name": "Python 3",
      "name": "python3"
    },
    "language_info": {
      "name": "python"
    }
  },
  "nbformat": 4,
  "nbformat_minor": 0
}